{
  "nbformat": 4,
  "nbformat_minor": 0,
  "metadata": {
    "colab": {
      "name": "ex1P2.ipynb",
      "provenance": [],
      "collapsed_sections": []
    },
    "kernelspec": {
      "display_name": "Python 3",
      "language": "python",
      "name": "python3"
    },
    "language_info": {
      "codemirror_mode": {
        "name": "ipython",
        "version": 3
      },
      "file_extension": ".py",
      "mimetype": "text/x-python",
      "name": "python",
      "nbconvert_exporter": "python",
      "pygments_lexer": "ipython3",
      "version": "3.5.0"
    }
  },
  "cells": [
    {
      "cell_type": "code",
      "metadata": {
        "button": false,
        "colab_type": "code",
        "deletable": true,
        "id": "Em2g3YFCh5rf",
        "new_sheet": false,
        "outputId": "4a9659fc-2d56-4926-ef92-1931ab8ffbae",
        "run_control": {
          "read_only": false
        },
        "colab": {
          "base_uri": "https://localhost:8080/",
          "height": 122
        }
      },
      "source": [
        "## Machine Learning Online Class - Exercise 1: Linear Regression\n",
        "\n",
        "#  Instructions\n",
        "#  ------------\n",
        "# \n",
        "#  This file contains code that helps you get started on the\n",
        "#  linear exercise. You will need to complete the following functions \n",
        "#  in this exericse:\n",
        "#\n",
        "#   \n",
        "#     PART#02\n",
        "#         OPTIMIZATION FUNCTIONS\n",
        "#         LEARNING RATE\n",
        "#\n",
        "#\n",
        "#  For this exercise, you will not need to change any code in this file,\n",
        "#  or any other files other than those mentioned above.\n",
        "#\n",
        "# X refers to the population size in 10,000s\n",
        "# Y refers to the profit in $10,000s\n",
        "\t\n",
        "\n",
        "#Write the code below every comment\n",
        "import numpy as np\n",
        "from google.colab import drive, files\n",
        "drive.mount('/content/drive/')\n",
        "path = \"/content/drive/My Drive/ex1data1.txt\""
      ],
      "execution_count": 3,
      "outputs": [
        {
          "output_type": "stream",
          "text": [
            "Go to this URL in a browser: https://accounts.google.com/o/oauth2/auth?client_id=947318989803-6bn6qk8qdgf4n4g3pfee6491hc0brc4i.apps.googleusercontent.com&redirect_uri=urn%3aietf%3awg%3aoauth%3a2.0%3aoob&response_type=code&scope=email%20https%3a%2f%2fwww.googleapis.com%2fauth%2fdocs.test%20https%3a%2f%2fwww.googleapis.com%2fauth%2fdrive%20https%3a%2f%2fwww.googleapis.com%2fauth%2fdrive.photos.readonly%20https%3a%2f%2fwww.googleapis.com%2fauth%2fpeopleapi.readonly\n",
            "\n",
            "Enter your authorization code:\n",
            "··········\n",
            "Mounted at /content/drive/\n"
          ],
          "name": "stdout"
        }
      ]
    },
    {
      "cell_type": "code",
      "metadata": {
        "id": "ShDAneQMxywf",
        "colab_type": "code",
        "outputId": "4a1c0c33-cd24-4b2b-8243-aea13fe318c4",
        "colab": {
          "base_uri": "https://localhost:8080/",
          "height": 467
        }
      },
      "source": [
        "import matplotlib.pyplot as plt\n",
        "\n",
        "# used for manipulating directory paths\n",
        "import os\n",
        "\n",
        "from pylab import *\n",
        "from numpy import *\n",
        "from numpy.random import normal\n",
        "from scipy.optimize import fmin_cg\n",
        "\n",
        "# Read comma separated data\n",
        "data = np.loadtxt(os.path.join('Data', path ), delimiter=',')\n",
        "X, Y = data[:, 0], data[:, 1]\n",
        "m=len(Y)\n",
        "\n",
        "\n",
        "args=(X,Y)  # parameter values\n",
        "al=1\n",
        "lr2=[]\n",
        "\n",
        "#--------  COST FUNCTION-------------\n",
        "def J(t,x,y):\n",
        "  theta=t\n",
        "  #============YOUR COST FUNCTION CODE HERE====\n",
        "  h = np.dot((np.stack([np.ones(m), x], axis=1)),theta)\n",
        "  J = (1/(2*m)) * sum(np.square(h-y))\n",
        "  #=====================================\n",
        "  lr2.append(J)\n",
        "  return J\n",
        "\n",
        "\n",
        "# -----------GRADIENT ONLY FUNCTION-----------\n",
        "def gradf(t, *args):\n",
        "  theta = t\n",
        "  #========GRADIENT ONLY CODE HERE=======   \n",
        "  for i in range(100):\n",
        "    X,y = args\n",
        "    h = np.dot((np.stack([np.ones(m), X], axis=1)), theta)\n",
        "    grad_0 = (1/m) * sum(h - y)\n",
        "    grad_1 = (1/m) * sum(X * (h - y))\n",
        "    theta[0] = theta[0] - 0.02 * (grad_0)\n",
        "    theta[1] = theta[1] - 0.02 * (grad_1)\n",
        "    # ===================================\n",
        "    J = (1/(2*m)) * sum(np.square(h-y))\n",
        "    #======================================\n",
        "    lr2.append(J)\n",
        "  return np.asarray((grad_0, grad_1))\n",
        "\n",
        "x0 = np.zeros(2)  # Initial guess.\n",
        "from scipy import optimize\n",
        "\n",
        "res1 = optimize.fmin_cg(J, x0, fprime=gradf,args=args)\n",
        "lr1=lr2\n",
        "lr2=[]\n",
        "res2 = optimize.fmin(J, x0, args=args)\n",
        "\n",
        "X = np.stack([np.ones(m), X], axis=1)\n",
        "\n",
        "plot(X[:,1],Y,'rx', X[:,1],np.dot(X, res1),'r', X[:,1], np.dot(X, res2),'b--')\n",
        "plt.ylabel('Profit in $10,000s'); # Set the y ? axis label\n",
        "plt.xlabel('Population of City in 10,000s'); # Set the x ? axis label\n",
        "plt.legend([ 'Training data','fmin_cg','fmin']);\n",
        "plt.show()\n",
        "print(res1)\n",
        "print(res2)"
      ],
      "execution_count": 17,
      "outputs": [
        {
          "output_type": "stream",
          "text": [
            "Optimization terminated successfully.\n",
            "         Current function value: 4.476971\n",
            "         Iterations: 1\n",
            "         Function evaluations: 4\n",
            "         Gradient evaluations: 4\n",
            "Optimization terminated successfully.\n",
            "         Current function value: 4.476971\n",
            "         Iterations: 90\n",
            "         Function evaluations: 172\n"
          ],
          "name": "stdout"
        },
        {
          "output_type": "display_data",
          "data": {
            "image/png": "[encoded data removed]",
            "text/plain": [
              "<Figure size 432x288 with 1 Axes>"
            ]
          },
          "metadata": {
            "tags": []
          }
        },
        {
          "output_type": "stream",
          "text": [
            "[-3.89578088  1.19303364]\n",
            "[-3.89582121  1.19303713]\n"
          ],
          "name": "stdout"
        }
      ]
    },
    {
      "cell_type": "code",
      "metadata": {
        "button": false,
        "colab_type": "code",
        "deletable": true,
        "id": "tQUhdcGDrXIt",
        "new_sheet": false,
        "outputId": "815bf03f-6185-4c51-b3c1-5d2c4d75b3aa",
        "run_control": {
          "read_only": false
        },
        "colab": {
          "base_uri": "https://localhost:8080/",
          "height": 279
        }
      },
      "source": [
        "# plot learning rates of fmin and fmin_cg\n",
        "xx = linspace(0,25,len(lr1))\n",
        "xy = linspace(0,25,len(lr2))\n",
        "\n",
        "plt.subplot(2,1,1)  \n",
        "plt.plot( xx,lr1,'r',label='fmin_cg') # (lr1) learning rate 1 of fmin_cg\n",
        "plt.legend()\n",
        "plt.subplot(2,1,2)\n",
        "plt.plot( xy,lr2,'r',label='fmin')  # (lr2)  learning rate 1 of fmin_cg\n",
        "plt.ylabel('COST'); # Set the y  axis label\n",
        "plt.xlabel('ITERATIONS'); # Set the x  axis label \n",
        "plt.legend() \n",
        "show()"
      ],
      "execution_count": 18,
      "outputs": [
        {
          "output_type": "display_data",
          "data": {
            "image/png": "[encoded data removed]",
            "text/plain": [
              "<Figure size 432x288 with 2 Axes>"
            ]
          },
          "metadata": {
            "tags": []
          }
        }
      ]
    },
    {
      "cell_type": "code",
      "metadata": {
        "id": "whJ6knUrxiRB",
        "colab_type": "code",
        "colab": {}
      },
      "source": [
        ""
      ],
      "execution_count": 0,
      "outputs": []
    }
  ]
}