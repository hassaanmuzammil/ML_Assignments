{
 "cells": [
  {
   "cell_type": "code",
   "execution_count": 0,
   "metadata": {
    "button": false,
    "colab": {},
    "colab_type": "code",
    "collapsed": true,
    "deletable": true,
    "id": "Em2g3YFCh5rf",
    "new_sheet": false,
    "run_control": {
     "read_only": false
    }
   },
   "outputs": [],
   "source": [
    "#Write the code below every comment"
   ]
  },
  {
   "cell_type": "code",
   "execution_count": 2,
   "metadata": {
    "button": false,
    "colab": {
     "base_uri": "https://localhost:8080/",
     "height": 51
    },
    "colab_type": "code",
    "collapsed": false,
    "deletable": true,
    "id": "iX0yCCeAR9iI",
    "new_sheet": false,
    "outputId": "7d146d92-8c01-4efb-9dc8-58a9704fc45f",
    "run_control": {
     "read_only": false
    }
   },
   "outputs": [
    {
     "name": "stdout",
     "output_type": "stream",
     "text": [
      "Mctominay\n",
      "Mctominay\n"
     ]
    }
   ],
   "source": [
    "#Question # 1\n",
    "\n",
    "\n",
    "#Create a list which contain names of 5 students\n",
    "list_students = ['Bruno','Pogba','Mctominay','Fred','Andreas']\n",
    "\n",
    "#Access the third name\n",
    "\n",
    "#Using positive indexing\n",
    "print(list_students[2])\n",
    "\n",
    "#Using negative indexing\n",
    "print(list_students[-3])\n",
    "\n",
    "\n",
    "\n",
    "\n",
    "\n"
   ]
  },
  {
   "cell_type": "code",
   "execution_count": 35,
   "metadata": {
    "button": false,
    "colab": {
     "base_uri": "https://localhost:8080/",
     "height": 102
    },
    "colab_type": "code",
    "collapsed": false,
    "deletable": true,
    "id": "v7Bf0IsiSwvO",
    "new_sheet": false,
    "outputId": "24509eef-0140-431f-d1f2-89402647ad94",
    "run_control": {
     "read_only": false
    }
   },
   "outputs": [
    {
     "name": "stdout",
     "output_type": "stream",
     "text": [
      "List of random integers:  [0, 3, 0, 9, 3, 0, 3, 0, 4, 10]\n",
      "After changing 1st and 6th value to 0:  [0, 3, 0, 9, 3, 0, 3, 0, 4, 10]\n",
      "Sorted List:  [0, 0, 0, 0, 3, 3, 3, 4, 9, 10]\n",
      "Inserting my name in 5th postion in the list\n",
      "[0, 0, 0, 0, 3, 'Hassaan', 3, 3, 4, 9, 10]\n"
     ]
    }
   ],
   "source": [
    "#Question # 2 \n",
    "from random import randint\n",
    "#Create a list of random integers from 0 to 10 \n",
    "list_integers = [0]*10\n",
    "for i in range(10):\n",
    "  list_integers[i] = randint(0,10)\n",
    "print(\"List of random integers: \",list_integers)\n",
    "#Change the 1st and 6th element in the list and replace with 0 and print it.\n",
    "list_integers[0] = 0\n",
    "list_integers[5] = 0\n",
    "print(\"After changing 1st and 6th value to 0: \",list_integers)\n",
    "#Sort the elements of the list in ascending order\n",
    "list_integers.sort()\n",
    "print(\"Sorted List: \",list_integers)\n",
    "#add your name at the 5th position and print it\n",
    "print(\"Inserting my name in 5th postion in the list\")\n",
    "list_integers.insert(5,'Hassaan')\n",
    "print(list_integers)\n",
    "\n",
    "\n",
    "\n",
    "\n",
    "\n",
    "\n",
    "\n",
    "\n",
    "\n",
    "\n",
    "\n"
   ]
  },
  {
   "cell_type": "code",
   "execution_count": 23,
   "metadata": {
    "button": false,
    "colab": {
     "base_uri": "https://localhost:8080/",
     "height": 102
    },
    "colab_type": "code",
    "collapsed": false,
    "deletable": true,
    "id": "UTyEMMl2VpYP",
    "new_sheet": false,
    "outputId": "f3aefe54-3a0f-4abf-800b-505957c67340",
    "run_control": {
     "read_only": false
    }
   },
   "outputs": [
    {
     "name": "stdout",
     "output_type": "stream",
     "text": [
      "Values of the array using for loop: \n",
      "1 2 3 4 5 \n",
      "\n",
      "Elements form beginning to 4th using negative indexing: \n",
      "1 2 3 4 "
     ]
    }
   ],
   "source": [
    "#Question # 3\n",
    "\n",
    "#Create a 1D array containing 5 integer values\n",
    "import numpy as np\n",
    "arr = np.array([1,2,3,4,5])\n",
    "#Print each value of the array using \"for\" loop\n",
    "print(\"Values of the array using for loop: \")\n",
    "for i in arr:\n",
    "  print(i,end=' ')\n",
    "print('\\n')\n",
    "#Print element form beginning to 4th using negative indexing\n",
    "i = -1\n",
    "print(\"Elements form beginning to 4th using negative indexing: \")\n",
    "for i in range(-len(arr),-1):\n",
    "  print(arr[i],end=' ')\n",
    "\n",
    "\n",
    "\n",
    "\n",
    "\n",
    "\n"
   ]
  },
  {
   "cell_type": "code",
   "execution_count": 22,
   "metadata": {
    "button": false,
    "colab": {
     "base_uri": "https://localhost:8080/",
     "height": 221
    },
    "colab_type": "code",
    "collapsed": false,
    "deletable": true,
    "id": "5TQhFKlYXuLU",
    "new_sheet": false,
    "outputId": "0bdcb50b-65b4-45aa-e683-4a0481221f9c",
    "run_control": {
     "read_only": false
    }
   },
   "outputs": [
    {
     "name": "stdout",
     "output_type": "stream",
     "text": [
      "3rd row of the 3rd dimension:  [4 5 6]\n",
      "2nd Element of the 2nd row in the 2nd Dimension:  8\n",
      "2nd Column in the 1st Dimension:  [4 5 6]\n",
      "Every row and every Column in the 1st and 2nd Dimension: \n",
      " [[[1 2 3]\n",
      "  [4 5 6]\n",
      "  [7 8 9]]\n",
      "\n",
      " [[4 5 6]\n",
      "  [7 8 9]\n",
      "  [1 2 3]]]\n",
      "Shape of array:  (3, 3, 3)\n"
     ]
    }
   ],
   "source": [
    "#Question # 4\n",
    "#A 3D array containing 1*2 elements in each dimension is given in example\n",
    "#Now Create a 3D array containing 3*3 elements in each dimension\n",
    "arr_3d = np.array([[[1,2,3],[4,5,6],[7,8,9]],\n",
    "                   [[4,5,6],[7,8,9],[1,2,3]],\n",
    "                   [[7,8,9],[1,2,3],[4,5,6]]])\n",
    "\n",
    "#Access 3rd row of the 3rd dimension\n",
    "print(\"3rd row of the 3rd dimension: \",arr_3d[2][:][2])\n",
    "\n",
    "#Access 2nd Element of the 2nd row in the 2nd Dimension\n",
    "print(\"2nd Element of the 2nd row in the 2nd Dimension: \",arr_3d[1][1][1])\n",
    "\n",
    "\n",
    "#Access 2nd Column in the 1st Dimension\n",
    "print(\"2nd Column in the 1st Dimension: \",arr_3d[:][1][0])\n",
    "\n",
    "\n",
    "#Access Every row and every Column in the 1st and 2nd Dimension\n",
    "print(\"Every row and every Column in the 1st and 2nd Dimension: \\n\",arr_3d[:][:][0:2])\n",
    "\n",
    "\n",
    "#Print the dimension of the array using \"shape()\" command\n",
    "print(\"Shape of array: \",arr_3d.shape)\n",
    "\n",
    "\n",
    "\n",
    "\n",
    "\n",
    "\n"
   ]
  },
  {
   "cell_type": "code",
   "execution_count": 34,
   "metadata": {
    "button": false,
    "colab": {
     "base_uri": "https://localhost:8080/",
     "height": 68
    },
    "colab_type": "code",
    "collapsed": false,
    "deletable": true,
    "id": "MJ4vNrLEa0Lt",
    "new_sheet": false,
    "outputId": "9e405797-3ab1-4d8b-a33f-778d58ccf09d",
    "run_control": {
     "read_only": false
    }
   },
   "outputs": [
    {
     "name": "stdout",
     "output_type": "stream",
     "text": [
      "Absolute value of 3 is  3\n",
      "Absolute value of 0 is  0\n",
      "Absolute value of -6.67 is  6.67\n"
     ]
    }
   ],
   "source": [
    "#Question # 5\n",
    "#Create a function which returns the absolute value of the input number \n",
    "#Hint: Use if else statements\n",
    "def absolute_value(x):\n",
    "  if x >= 0:\n",
    "    return x\n",
    "  else:\n",
    "    return 0 - x\n",
    "    #return abs(x)\n",
    "\n",
    "#Test cases\n",
    "print(\"Absolute value of 3 is \",absolute_value(3))\n",
    "print(\"Absolute value of 0 is \",absolute_value(0))\n",
    "print(\"Absolute value of -6.67 is \",absolute_value(-6.67))\n",
    "\n",
    "\n",
    "\n",
    "\n"
   ]
  },
  {
   "cell_type": "code",
   "execution_count": 71,
   "metadata": {
    "button": false,
    "colab": {
     "base_uri": "https://localhost:8080/",
     "height": 68
    },
    "colab_type": "code",
    "collapsed": false,
    "deletable": true,
    "id": "fQvIiOyOlfhN",
    "new_sheet": false,
    "outputId": "4c679479-a9cd-4765-b2e0-07ac06087d85",
    "run_control": {
     "read_only": false
    }
   },
   "outputs": [
    {
     "name": "stdout",
     "output_type": "stream",
     "text": [
      "3  --> Number is Positive\n",
      "0  --> Number is Zero\n",
      "-6.67  --> Number is Negative\n"
     ]
    }
   ],
   "source": [
    "#Questions #6\n",
    "#Create a function with following characteristics\n",
    "# 1- Takes a number as an input and tell us whether the number is positive or negative\n",
    "# 2- If the number is positive but zero it shows \"Number is Zero\" else \"Number is Positve\"\n",
    "def number_check(x):\n",
    "  if x >= 0:\n",
    "    if x == 0:\n",
    "      print(x,' --> Number is Zero')\n",
    "    else:\n",
    "      print(x,' --> Number is Positive')\n",
    "  else:\n",
    "    print(x,' --> Number is Negative')\n",
    "\n",
    "#Test cases\n",
    "number_check(3)\n",
    "number_check(0)\n",
    "number_check(-6.67)\n",
    "\n",
    "\n",
    "\n",
    "\n",
    "\n"
   ]
  },
  {
   "cell_type": "code",
   "execution_count": 70,
   "metadata": {
    "button": false,
    "colab": {
     "base_uri": "https://localhost:8080/",
     "height": 295
    },
    "colab_type": "code",
    "collapsed": false,
    "deletable": true,
    "id": "v-_m3mtKByr8",
    "new_sheet": false,
    "outputId": "34bf00f2-7d07-42d2-bbf3-cb1b8f71f966",
    "run_control": {
     "read_only": false
    }
   },
   "outputs": [
    {
     "data": {
      "image/png": "[encoded data removed]",
      "text/plain": [
       "<Figure size 432x288 with 1 Axes>"
      ]
     },
     "metadata": {
      "tags": []
     },
     "output_type": "display_data"
    }
   ],
   "source": [
    "#Question: 6\n",
    "#Now its time to learn that how we can visualize our data using python. Values for x and y coordinates are given below. You have to plot these values\n",
    "#Hint: A library known as matplotlib is used in python to plot data. Import that library and pass the given x and y coordinates to plot.\n",
    "\n",
    "x=[1, 2, 3, 4]\n",
    "y=[1, 4, 9, 16]\n",
    "\n",
    "import matplotlib.pyplot as plt\n",
    "plt.plot(x,y)\n",
    "plt.xlabel('x')\n",
    "plt.ylabel('y')\n",
    "plt.title('Visualizing Data(y wrt x)')\n",
    "plt.show()\n",
    "\n",
    "\n",
    "\n",
    "\n"
   ]
  },
  {
   "cell_type": "code",
   "execution_count": 69,
   "metadata": {
    "button": false,
    "colab": {
     "base_uri": "https://localhost:8080/",
     "height": 311
    },
    "colab_type": "code",
    "collapsed": false,
    "deletable": true,
    "id": "vSUp6x9DDaXG",
    "new_sheet": false,
    "outputId": "9f759768-9158-415a-c6d4-25b50f12e347",
    "run_control": {
     "read_only": false
    }
   },
   "outputs": [
    {
     "data": {
      "image/png": "[encoded data removed]",
      "text/plain": [
       "<Figure size 432x288 with 3 Axes>"
      ]
     },
     "metadata": {
      "tags": []
     },
     "output_type": "display_data"
    }
   ],
   "source": [
    "#Question: 7\n",
    "#Following is the data given of three students and their final exam marks in stochastic systems.\n",
    "#We want to visualize the given data using ,simple plot,bar plot and scatter plot\n",
    "#We want all these plots in one figure\n",
    "#Hint: Use subplot to plot all in figure. \n",
    "import matplotlib.gridspec as gridspec\n",
    "\n",
    "names = ['Saad', 'Sharukh', 'Shahzain']\n",
    "values = [40, 35, 30]\n",
    "\n",
    "gs = gridspec.GridSpec(2, 2)\n",
    "\n",
    "plt.subplot(gs[0, 0])\n",
    "plt.plot(names,values,c='r')\n",
    "plt.ylabel('(Marks Obtained)')\n",
    "plt.title('Simple Plot')\n",
    "\n",
    "plt.subplot(gs[0, 1])\n",
    "plt.scatter(names,values)\n",
    "#plt.ylabel('(Marks Obtained)')\n",
    "plt.title('Scatter Plot')\n",
    "\n",
    "plt.subplot(gs[1, :])\n",
    "plt.bar(names,values,width=0.5,color='g')\n",
    "plt.ylabel('(Marks Obtained)')\n",
    "plt.title('Bar Plot')\n",
    "plt.tight_layout(pad=0.4, w_pad=0.8, h_pad=1.0)\n",
    "plt.show()\n",
    "\n"
   ]
  },
  {
   "cell_type": "code",
   "execution_count": 0,
   "metadata": {
    "button": false,
    "colab": {},
    "colab_type": "code",
    "collapsed": true,
    "deletable": true,
    "id": "5BNynhywFmZb",
    "new_sheet": false,
    "run_control": {
     "read_only": false
    }
   },
   "outputs": [],
   "source": []
  }
 ],
 "metadata": {
  "colab": {
   "collapsed_sections": [],
   "name": "python.ipynb",
   "provenance": []
  },
  "kernelspec": {
   "display_name": "Python 3",
   "language": "python",
   "name": "python3"
  },
  "language_info": {
   "codemirror_mode": {
    "name": "ipython",
    "version": 3
   },
   "file_extension": ".py",
   "mimetype": "text/x-python",
   "name": "python",
   "nbconvert_exporter": "python",
   "pygments_lexer": "ipython3",
   "version": "3.5.0"
  }
 },
 "nbformat": 4,
 "nbformat_minor": 0
}
