{
  "nbformat": 4,
  "nbformat_minor": 0,
  "metadata": {
    "colab": {
      "name": "ex1P2.ipynb",
      "provenance": [],
      "collapsed_sections": []
    },
    "kernelspec": {
      "display_name": "Python 3",
      "language": "python",
      "name": "python3"
    },
    "language_info": {
      "codemirror_mode": {
        "name": "ipython",
        "version": 3
      },
      "file_extension": ".py",
      "mimetype": "text/x-python",
      "name": "python",
      "nbconvert_exporter": "python",
      "pygments_lexer": "ipython3",
      "version": "3.5.0"
    }
  },
  "cells": [
    {
      "cell_type": "code",
      "metadata": {
        "button": false,
        "colab_type": "code",
        "deletable": true,
        "id": "Em2g3YFCh5rf",
        "new_sheet": false,
        "outputId": "cfa70b13-920e-4f18-8f63-644843fed1c9",
        "run_control": {
          "read_only": false
        },
        "colab": {
          "base_uri": "https://localhost:8080/",
          "height": 34
        }
      },
      "source": [
        "## Machine Learning Online Class - Exercise 1: Linear Regression\n",
        "\n",
        "#  Instructions\n",
        "#  ------------\n",
        "# \n",
        "#  This file contains code that helps you get started on the\n",
        "#  linear exercise. You will need to complete the following functions \n",
        "#  in this exericse:\n",
        "#\n",
        "#   \n",
        "#     PART#02\n",
        "#         OPTIMIZATION FUNCTIONS\n",
        "#         LEARNING RATE\n",
        "#\n",
        "#\n",
        "#  For this exercise, you will not need to change any code in this file,\n",
        "#  or any other files other than those mentioned above.\n",
        "#\n",
        "# X refers to the population size in 10,000s\n",
        "# Y refers to the profit in $10,000s\n",
        "\t\n",
        "\n",
        "#Write the code below every comment\n",
        "import numpy as np\n",
        "from google.colab import drive, files\n",
        "drive.mount('/content/drive/')\n",
        "path = \"/content/drive/My Drive/ex1data1.txt\""
      ],
      "execution_count": 38,
      "outputs": [
        {
          "output_type": "stream",
          "text": [
            "Drive already mounted at /content/drive/; to attempt to forcibly remount, call drive.mount(\"/content/drive/\", force_remount=True).\n"
          ],
          "name": "stdout"
        }
      ]
    },
    {
      "cell_type": "code",
      "metadata": {
        "button": false,
        "colab_type": "code",
        "deletable": true,
        "id": "FZzMQQo2rGCF",
        "new_sheet": false,
        "run_control": {
          "read_only": false
        },
        "colab": {}
      },
      "source": [
        ""
      ],
      "execution_count": 0,
      "outputs": []
    },
    {
      "cell_type": "code",
      "metadata": {
        "id": "ShDAneQMxywf",
        "colab_type": "code",
        "colab": {
          "base_uri": "https://localhost:8080/",
          "height": 467
        },
        "outputId": "b7738709-e389-4cb5-d3d5-635aa88ed9b4"
      },
      "source": [
        "import matplotlib.pyplot as plt\n",
        "\n",
        "# used for manipulating directory paths\n",
        "import os\n",
        "\n",
        "from pylab import *\n",
        "from numpy import *\n",
        "from numpy.random import normal\n",
        "from scipy.optimize import fmin_cg\n",
        "\n",
        "# Read comma separated data\n",
        "data = np.loadtxt(os.path.join('Data', path ), delimiter=',')\n",
        "X, Y = data[:, 0], data[:, 1]\n",
        "m=len(Y)\n",
        "\n",
        "\n",
        "args=(X,Y)  # parameter values\n",
        "al=1\n",
        "lr2=[]\n",
        "\n",
        "#--------  COST FUNCTION-------------\n",
        "def J(t,x,y):\n",
        "  theta=t\n",
        "  #============YOUR COST FUNCTION CODE HERE====\n",
        "  h = np.dot((np.stack([np.ones(m), x], axis=1)),theta)\n",
        "  J = (1/(2*m)) * sum(np.square(h-y))\n",
        "  #=====================================\n",
        "  lr2.append(J)\n",
        "  return J\n",
        "\n",
        "\n",
        "# -----------GRADIENT ONLY FUNCTION-----------\n",
        "def gradf(t, *args):\n",
        "  theta = t\n",
        "  #========GRADIENT ONLY CODE HERE======= \n",
        "  for i in range(500):  \n",
        "    X,y = args\n",
        "    h = np.dot((np.stack([np.ones(m), X], axis=1)), theta)\n",
        "    grad_0 = (1/m) * sum(h - y)\n",
        "    grad_1 = (1/m) * sum(X * (h - y))\n",
        "    theta[0] = theta[0] - 0.02 * (grad_0)\n",
        "    theta[1] = theta[1] - 0.02 * (grad_1)\n",
        "    # ===================================\n",
        "    J = (1/(2*m)) * sum(np.square(h-y))\n",
        "    #======================================\n",
        "    lr2.append(J)\n",
        "  return theta\n",
        "\n",
        "x0 = np.zeros(2)  # Initial guess.\n",
        "from scipy import optimize\n",
        "\n",
        "res1 = optimize.fmin_cg(J, x0, fprime=gradf,args=args)\n",
        "lr1=lr2\n",
        "lr2=[]\n",
        "res2 = optimize.fmin(J, x0, args=args)\n",
        "\n",
        "X = np.stack([np.ones(m), X], axis=1)\n",
        "\n",
        "plot(X[:,1],Y,'rx', X[:,1],np.dot(X, res1),'r', X[:,1], np.dot(X, res2),'b--')\n",
        "plt.ylabel('Profit in $10,000s'); # Set the y ? axis label\n",
        "plt.xlabel('Population of City in 10,000s'); # Set the x ? axis label\n",
        "plt.legend([ 'Training data','fmin_cg','fmin']);\n",
        "plt.show()\n",
        "print(res1)\n",
        "print(res2)"
      ],
      "execution_count": 64,
      "outputs": [
        {
          "output_type": "stream",
          "text": [
            "Warning: Desired error not necessarily achieved due to precision loss.\n",
            "         Current function value: 4.515829\n",
            "         Iterations: 0\n",
            "         Function evaluations: 113\n",
            "         Gradient evaluations: 101\n",
            "Optimization terminated successfully.\n",
            "         Current function value: 4.476971\n",
            "         Iterations: 90\n",
            "         Function evaluations: 172\n"
          ],
          "name": "stdout"
        },
        {
          "output_type": "display_data",
          "data": {
            "image/png": "[encoded data removed]",
            "text/plain": [
              "<Figure size 432x288 with 1 Axes>"
            ]
          },
          "metadata": {
            "tags": []
          }
        },
        {
          "output_type": "stream",
          "text": [
            "[-3.24246827  1.12740131]\n",
            "[-3.89582121  1.19303713]\n"
          ],
          "name": "stdout"
        }
      ]
    },
    {
      "cell_type": "code",
      "metadata": {
        "button": false,
        "colab_type": "code",
        "deletable": true,
        "id": "tQUhdcGDrXIt",
        "new_sheet": false,
        "outputId": "28830559-a9c1-4b8c-b316-387db7abd228",
        "run_control": {
          "read_only": false
        },
        "colab": {
          "base_uri": "https://localhost:8080/",
          "height": 296
        }
      },
      "source": [
        "# plot learning rates of fmin and fmin_cg\n",
        "xx = linspace(0,25,len(lr1))\n",
        "xy = linspace(0,25,len(lr2))\n",
        "plt.subplot(2,1,1)\n",
        "\n",
        "plt.legend()   \n",
        "plt.plot( xx,lr1,'r',label='fmin_cg') # (lr1) learning rate 1 of fmin_cg\n",
        "plt.legend()\n",
        "plt.subplot(2,1,2)\n",
        "plt.plot( xy,lr2,'r',label='fmin')  # (lr2)  learning rate 1 of fmin_cg\n",
        "plt.ylabel('COST'); # Set the y  axis label\n",
        "plt.xlabel('ITERATIONS'); # Set the x  axis label \n",
        "plt.legend() \n",
        "show()"
      ],
      "execution_count": 65,
      "outputs": [
        {
          "output_type": "stream",
          "text": [
            "No handles with labels found to put in legend.\n"
          ],
          "name": "stderr"
        },
        {
          "output_type": "display_data",
          "data": {
            "image/png": "[encoded data removed]",
            "text/plain": [
              "<Figure size 432x288 with 2 Axes>"
            ]
          },
          "metadata": {
            "tags": []
          }
        }
      ]
    },
    {
      "cell_type": "code",
      "metadata": {
        "id": "whJ6knUrxiRB",
        "colab_type": "code",
        "colab": {}
      },
      "source": [
        ""
      ],
      "execution_count": 0,
      "outputs": []
    }
  ]
}